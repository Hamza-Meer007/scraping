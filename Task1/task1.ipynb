{
 "cells": [
  {
   "cell_type": "code",
   "execution_count": 1,
   "id": "46a7fefc",
   "metadata": {},
   "outputs": [],
   "source": [
    "import requests\n",
    "from bs4 import BeautifulSoup\n",
    "import json"
   ]
  },
  {
   "cell_type": "code",
   "execution_count": 2,
   "id": "9118f0b9",
   "metadata": {},
   "outputs": [
    {
     "data": {
      "text/plain": [
       "200"
      ]
     },
     "execution_count": 2,
     "metadata": {},
     "output_type": "execute_result"
    }
   ],
   "source": [
    "response = requests.get('https://web6.seattle.gov/fas/registration/ResultsInteractive.aspx?Name=LLC&State=True')\n",
    "response.status_code"
   ]
  },
  {
   "cell_type": "code",
   "execution_count": 3,
   "id": "69d08ec0",
   "metadata": {},
   "outputs": [],
   "source": [
    "soup = BeautifulSoup(response.text, 'html.parser')"
   ]
  },
  {
   "cell_type": "code",
   "execution_count": 4,
   "id": "5a597a6f",
   "metadata": {},
   "outputs": [],
   "source": [
    "table = soup.find('table',class_='Results')"
   ]
  },
  {
   "cell_type": "code",
   "execution_count": 5,
   "id": "0b964133",
   "metadata": {},
   "outputs": [],
   "source": [
    "count = 0\n",
    "with open('data.jsonl', 'w') as f:\n",
    "    for i in table.find_all('tr')[3:]:\n",
    "        \n",
    "        td_legal = i.find('td',class_='Legal') \n",
    "        a_legal = td_legal.find('a',class_='Legal') if td_legal else None\n",
    "        td_dba = i.find('td',class_='Dba')\n",
    "        td_contact = i.find('td',class_='Contact')\n",
    "        td_phone = i.find('td',class_='Phone')\n",
    "        td_email = i.find('td',class_='Email') \n",
    "        emails = None\n",
    "        if td_email:\n",
    "            if td_email.input:\n",
    "                if td_email.input['email']:\n",
    "                    emails = td_email.input['email']     \n",
    "                \n",
    "        td_WMBE = i.find('td',class_='Wmbe')\n",
    "        if td_WMBE and td_WMBE.find('span'):\n",
    "            wmbe_ethnicity = td_WMBE.span.text.split('-')\n",
    "            wmbe = wmbe_ethnicity[0].strip() if len(wmbe_ethnicity) > 0 else ''\n",
    "            ethnicity = wmbe_ethnicity[1].strip() if len(wmbe_ethnicity) > 1 and wmbe_ethnicity[1].strip() else None\n",
    "        \n",
    "        # print(f\"Legal Name: {a_legal.text.strip()}\")\n",
    "        # print(f\"DBA: {td_dba.text.strip()}\")\n",
    "        # print(f\"Contact: {td_contact.text.strip()}\")\n",
    "        # print(f\"Phone: {td_phone.text.strip()}\")\n",
    "        # print(f\"Email: {emails}\")\n",
    "        # print(f\"WMBE: {wmbe}\")\n",
    "        # print(f'Ethnicity: {ethnicity}')\n",
    "        # print('-' * 40)\n",
    "        \n",
    "        rows ={\n",
    "            'count': count,\n",
    "            'Legal Name': a_legal.text.strip() if a_legal else '',\n",
    "            'DBA': td_dba.text.strip() if td_dba else '',\n",
    "            'Contact': td_contact.text.strip() if td_contact else '',\n",
    "            'Phone': td_phone.text.strip() if td_phone else '',\n",
    "            'Email': emails if emails else '',\n",
    "            'WMBE': wmbe if wmbe else '',\n",
    "            'Ethnicity':ethnicity if ethnicity else None\n",
    "        }\n",
    "        \n",
    "        \n",
    "        f.write(json.dumps(rows) + '\\n')\n",
    "        count += 1\n",
    "        "
   ]
  },
  {
   "cell_type": "code",
   "execution_count": null,
   "id": "9cb6e452",
   "metadata": {},
   "outputs": [],
   "source": []
  },
  {
   "cell_type": "code",
   "execution_count": null,
   "id": "0028cb54",
   "metadata": {},
   "outputs": [],
   "source": []
  }
 ],
 "metadata": {
  "kernelspec": {
   "display_name": "Python 3",
   "language": "python",
   "name": "python3"
  },
  "language_info": {
   "codemirror_mode": {
    "name": "ipython",
    "version": 3
   },
   "file_extension": ".py",
   "mimetype": "text/x-python",
   "name": "python",
   "nbconvert_exporter": "python",
   "pygments_lexer": "ipython3",
   "version": "3.10.0"
  }
 },
 "nbformat": 4,
 "nbformat_minor": 5
}
