{
 "cells": [
  {
   "cell_type": "markdown",
   "id": "b884ab61",
   "metadata": {},
   "source": [
    "The next one is: https://cifl.com/annuaire.htm?lang=EN. For this one you'll have to go to the sub links to scrape the data.\n",
    "Fields required: company_name , contact_name, phone, website and address"
   ]
  },
  {
   "cell_type": "code",
   "execution_count": 1,
   "id": "0c6f9894",
   "metadata": {},
   "outputs": [],
   "source": [
    "import requests\n",
    "from bs4 import BeautifulSoup\n",
    "import json"
   ]
  },
  {
   "cell_type": "code",
   "execution_count": 3,
   "id": "61827fce",
   "metadata": {},
   "outputs": [
    {
     "data": {
      "text/plain": [
       "200"
      ]
     },
     "execution_count": 3,
     "metadata": {},
     "output_type": "execute_result"
    }
   ],
   "source": [
    "headers = {\n",
    "\t\"User-Agent\": \"Mozilla/5.0 (Windows NT 10.0; Win64; x64) AppleWebKit/537.36 (KHTML, like Gecko) Chrome/120.0.0.0 Safari/537.36\"\n",
    "}\n",
    "response = requests.get('https://cifl.com/annuaire.htm?lang=EN', headers=headers)\n",
    "response.status_code"
   ]
  },
  {
   "cell_type": "code",
   "execution_count": 4,
   "metadata": {},
   "outputs": [],
   "source": [
    "soup = BeautifulSoup(response.text, 'html.parser')\n"
   ]
  },
  {
   "cell_type": "code",
   "execution_count": 5,
   "metadata": {},
   "outputs": [],
   "source": [
    "table = soup.find('table', class_='table table-striped')\n"
   ]
  },
  {
   "cell_type": "code",
   "execution_count": 79,
   "id": "b64ee5f6",
   "metadata": {},
   "outputs": [],
   "source": [
    "count = 0\n",
    "with open('data.jsonl', 'w') as f:\n",
    "        \n",
    "    for i in table.find_all('tr')[2:]:\n",
    "        td = i.find_all('td')\n",
    "        company_name = td[0].text.strip()\n",
    "        company_url = td[1].a['href']\n",
    "        \n",
    "\n",
    "        \n",
    "        response2 = requests.get(f\"https://cifl.com/{td[0].a['href']}\", headers=headers)\n",
    "        soup2 = BeautifulSoup(response2.text, 'html.parser')\n",
    "        main_div = soup2.find_all('div', class_='col-sm-9 col-md-9 main')\n",
    "        \n",
    "        info = main_div[0].p.text.strip().split(':')\n",
    "        contact_name = info[1].strip().split('\\n')[0].strip()\n",
    "        phone = info[2].strip().split('\\n')[0].strip()\n",
    "        address = info[4]\n",
    "        \n",
    "        \n",
    "        data = {\n",
    "            'count': count,\n",
    "            \"company_name\": company_name,\n",
    "            \"company_url\": company_url,\n",
    "            \"contact_name\": contact_name,\n",
    "            \"phone\": phone,\n",
    "            \"address\": address\n",
    "        }\n",
    "        \n",
    "        f.write(json.dumps(data) + '\\n')\n",
    "        count += 1\n",
    "        "
   ]
  },
  {
   "cell_type": "code",
   "execution_count": null,
   "id": "b28e3652",
   "metadata": {},
   "outputs": [],
   "source": []
  },
  {
   "cell_type": "code",
   "execution_count": null,
   "id": "c1811a9f",
   "metadata": {},
   "outputs": [],
   "source": []
  }
 ],
 "metadata": {
  "kernelspec": {
   "display_name": "Python 3",
   "language": "python",
   "name": "python3"
  },
  "language_info": {
   "codemirror_mode": {
    "name": "ipython",
    "version": 3
   },
   "file_extension": ".py",
   "mimetype": "text/x-python",
   "name": "python",
   "nbconvert_exporter": "python",
   "pygments_lexer": "ipython3",
   "version": "3.10.0"
  }
 },
 "nbformat": 4,
 "nbformat_minor": 5
}
