{
 "cells": [
  {
   "cell_type": "markdown",
   "id": "284aa12b",
   "metadata": {},
   "source": [
    "https://www.tsbpa.texas.gov/php/fpl/indlookup.php\n",
    "\n",
    "\n",
    "\n",
    "\n",
    "\n",
    "5:51\n",
    "Scrape only for Anderson county.\n",
    "5:53\n",
    "This is supposed to be tricky. My suggestion is to use requests and beautifulsoup for debugging. Then make a scrapy spider of it.\n",
    "5:56\n",
    "- Certificate Last Name\n",
    "- City\n",
    "- State\n",
    "- Date Certified\n",
    "- Date License Expiration\n",
    "- Status\n",
    "- Firms in which the individual is a partner, shareholder, owner, officer, director, or resident manager (This is just one string, no need to extract further details from it)"
   ]
  },
  {
   "cell_type": "code",
   "execution_count": 1,
   "id": "39e2fc5d",
   "metadata": {},
   "outputs": [],
   "source": [
    "import requests\n",
    "from bs4 import BeautifulSoup"
   ]
  },
  {
   "cell_type": "code",
   "execution_count": 4,
   "id": "1dc4f7f4",
   "metadata": {},
   "outputs": [],
   "source": [
    "headers = {\n",
    "    'User-Agent': 'Mozilla/5.0 (Windows NT 10.0; Win64; x64) AppleWebKit/537.36 (KHTML, like Gecko) Chrome/137.0.0.0 Safari/537.36 Edg/137.0.0.0',\n",
    "    'Accept': 'text/html,application/xhtml+xml,application/xml;q=0.9,image/avif,image/webp,image/apng,*/*;q=0.8,application/signed-exchange;v=b3;q=0.7',\n",
    "    'Accept-Encoding': 'gzip, deflate, br, zstd',\n",
    "    'Accept-Language': 'en-US,en;q=0.9',\n",
    "    'Cache-Control': 'max-age=0',\n",
    "    'Connection': 'keep-alive',\n",
    "    'Content-Type': 'application/x-www-form-urlencoded',\n",
    "    'Cookie': 'ZDEDebuggerPresent=php,phtml,php3; PHPSESSID=e81Snkuip6euhem30723qquh21h2gp6f',\n",
    "    'Host': 'www.tsbpa.texas.gov',\n",
    "    'Origin': 'https://www.tsbpa.texas.gov',\n",
    "    'Referer': 'https://www.tsbpa.texas.gov/php/fpl/indlookup.php',\n",
    "    'Sec-Ch-Ua': '\"Microsoft Edge\";v=\"137\", \"Chromium\";v=\"137\", \"Not(A:Brand\";v=\"24\"',\n",
    "    'Sec-Ch-Ua-Mobile': '?0',\n",
    "    'Sec-Ch-Ua-Platform': '\"Windows\"',\n",
    "    'Sec-Fetch-Dest': 'document',\n",
    "    'Sec-Fetch-Mode': 'navigate',\n",
    "    'Sec-Fetch-Site': 'same-origin',\n",
    "    'Sec-Fetch-User': '?1',\n",
    "    'Upgrade-Insecure-Requests': '1'\n",
    "}\n",
    "\n",
    "session = requests.Session()\n",
    "session.headers.update(headers)"
   ]
  },
  {
   "cell_type": "code",
   "execution_count": 9,
   "id": "69cc3372",
   "metadata": {},
   "outputs": [
    {
     "data": {
      "text/plain": [
       "200"
      ]
     },
     "execution_count": 9,
     "metadata": {},
     "output_type": "execute_result"
    }
   ],
   "source": [
    "response  = session.get('https://www.tsbpa.texas.gov/php/fpl/indlookup.php',timeout=10)\n",
    "response.status_code"
   ]
  },
  {
   "cell_type": "code",
   "execution_count": 10,
   "metadata": {},
   "outputs": [],
   "source": [
    "soup = BeautifulSoup(response.text, 'html.parser')"
   ]
  },
  {
   "cell_type": "code",
   "execution_count": 11,
   "id": "978c0907",
   "metadata": {},
   "outputs": [
    {
     "name": "stdout",
     "output_type": "stream",
     "text": [
      "{'CITY': '',\n",
      " 'CLNAME': '',\n",
      " 'CNTY': 'ANDERSON',\n",
      " 'FNAME': '',\n",
      " 'LICID': '',\n",
      " 'LNAME': '',\n",
      " 'STATE': '',\n",
      " 'ZIP': '',\n",
      " 'list': 'fromsel',\n",
      " 'submit': 'Submit Search',\n",
      " 'tsbpa684f0c364d1df': 'tsbpa684f0c364d1df'}\n"
     ]
    }
   ],
   "source": [
    "import pprint\n",
    "form = soup.find('form')\n",
    "\n",
    "form_data = {}\n",
    "for input_tag in form.find_all(['input','select']):\n",
    "    if input_tag.get('name'):\n",
    "        form_data[input_tag.get('name')] = input_tag.get('value', '')\n",
    "form_data['CNTY']='ANDERSON'\n",
    "\n",
    "form_data['submit'] = 'Submit Search'\n",
    "\n",
    "# Make sure we have empty values for other fields\n",
    "form_data['LICID'] = ''\n",
    "form_data['LNAME'] = ''\n",
    "form_data['FNAME'] = ''\n",
    "form_data['CLNAME'] = ''\n",
    "form_data['CITY'] = ''\n",
    "form_data['STATE'] = ''\n",
    "form_data['ZIP'] = ''\n",
    "pprint.pprint(form_data)"
   ]
  },
  {
   "cell_type": "code",
   "execution_count": 12,
   "id": "4060d320",
   "metadata": {},
   "outputs": [
    {
     "name": "stdout",
     "output_type": "stream",
     "text": [
      "200\n"
     ]
    }
   ],
   "source": [
    "submit_response = session.post(\n",
    "    'https://www.tsbpa.texas.gov/php/fpl/indlookup.php',\n",
    "    data=form_data,timeout=10\n",
    ")\n",
    "print(submit_response.status_code)\n"
   ]
  },
  {
   "cell_type": "code",
   "execution_count": 13,
   "id": "fcd94349",
   "metadata": {},
   "outputs": [],
   "source": [
    "submit_soup = BeautifulSoup(submit_response.text, 'html.parser')\n"
   ]
  },
  {
   "cell_type": "code",
   "execution_count": 14,
   "id": "0ec9b8aa",
   "metadata": {},
   "outputs": [],
   "source": [
    "table = submit_soup.find_all(\"table\")[5]"
   ]
  },
  {
   "cell_type": "code",
   "execution_count": 62,
   "id": "93e69a94",
   "metadata": {},
   "outputs": [],
   "source": [
    "import json\n",
    "\n",
    "\n",
    "count = 0\n",
    "with open('data.jsonl', 'w') as f:\n",
    "    for i in table.find_all('tr'):\n",
    "        req_href = i.find('td').find('a')['href']\n",
    "        url = f'https://www.tsbpa.texas.gov/php/fpl/{req_href}'\n",
    "        response2= session.get(url)\n",
    "        response2_soup = BeautifulSoup(response2.text, 'html.parser')\n",
    "        table2 = response2_soup.find_all('table')[3]\n",
    "        \n",
    "        certificate_last_name = table2.find_all('tr')[4].text\n",
    "        city = table2.find_all('tr')[6].text.split(',')[0]\n",
    "        state = table2.find_all('tr')[6].text.split(',')[1]\n",
    "        registered_date =table2.find_all('tr')[10].text \n",
    "        expiration_date = table2.find_all('tr')[13].text\n",
    "        status = table2.find_all('tr')[16].text\n",
    "        firms = table2.find_all('tr')[26].text\n",
    "        \n",
    "        data = {\n",
    "            'count': count,\n",
    "            'certificate_last_name': certificate_last_name.strip(),\n",
    "            'city': city.strip(),\n",
    "            'state': state.strip(),\n",
    "            'registered_date': registered_date.strip(),\n",
    "            'expiration_date': expiration_date.strip(),\n",
    "            'status': status.strip(),\n",
    "            'firms': firms.strip()\n",
    "        }\n",
    "            \n",
    "        f.write(json.dumps(data) + '\\n')\n",
    "        count += 1\n",
    "    \n",
    "    "
   ]
  },
  {
   "cell_type": "code",
   "execution_count": null,
   "id": "e3142ff3",
   "metadata": {},
   "outputs": [],
   "source": []
  }
 ],
 "metadata": {
  "kernelspec": {
   "display_name": "Python 3",
   "language": "python",
   "name": "python3"
  },
  "language_info": {
   "codemirror_mode": {
    "name": "ipython",
    "version": 3
   },
   "file_extension": ".py",
   "mimetype": "text/x-python",
   "name": "python",
   "nbconvert_exporter": "python",
   "pygments_lexer": "ipython3",
   "version": "3.10.0"
  }
 },
 "nbformat": 4,
 "nbformat_minor": 5
}
